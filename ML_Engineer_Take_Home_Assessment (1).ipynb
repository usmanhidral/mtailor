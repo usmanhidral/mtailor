{
  "cells": [
    {
      "cell_type": "markdown",
      "metadata": {
        "id": "5Vu93d2olS3m"
      },
      "source": [
        "# Design and Train an object detector to detect objects\n",
        "\n",
        "You have to design and implement a Training Pipeline that can train, test and visualize the model using the dataset provided.\n",
        "\n",
        "## Assignment Protocols\n",
        "\n",
        "- We expect it to take ~4 hours, with an extra 15 min for clear loom explanation(s)\n",
        "  - The assessment is timeboxed at 5 hours total in a single block. So please plan accordingly\n",
        "- You need to use Google Collaboratory to run and edit this notebook\n",
        "- You can only use Python as a programming Language\n",
        "- You cannot take help from any other person\n",
        "- You can use Google to search for references\n",
        "- You can not search on google for design-related things, like what should be loss function, or what should be model architecture.\n",
        "  - But you can use pre-trained backbones from PyTorch\n",
        "- Record a 5-10 mins of code walkthrough of the work you have done. You can use Loom Platform (https://www.loom.com) to record the video.\n",
        "  - Design Decisions\n",
        "    - Model Design which layers and activation functions you used and why\n",
        "    - Loss function, which loss functions you used and why\n",
        "    - Metrics, which metrics and why\n",
        "  - Any optimizations you have made to the codebase\n",
        "  - How you implemented resume functionality, what were the things you thought would be needed to resume training from exact same point\n",
        "  - Explain what parts of the assessment are completed and what is missing?\n",
        "  - Make sure to submit the screen recording link in the submission after you are done recording\n",
        "  - Please note that the free plan on Loom only allows for videos up to 5 minutes in length. As such, you may need to record two separate 5-minute videos.\n",
        "- [NO SUBMISSION WILL BE ACCEPTED WITHOUT]\n",
        "  - Trained best model weights\n",
        "  - Visualize Function in the Notebook\n",
        "  - Code Walk-through video\n",
        "\n",
        "## Task Details\n",
        "Design a Training Pipeline to train a object detector with following specs or assumptions:\n",
        "- Implement & Design Model\n",
        "  - You can use any backbone\n",
        "    - Either from PyTorch (torhvision) or any resource online\n",
        "    - But you need to design head your self (head means how you will use features of the back bone and get the desired outputs)\n",
        "  - Model needs to detect one object in each image\n",
        "  - Model should output following for each image passed as input:\n",
        "    - Whether we have an object or not\n",
        "    - Where is the object?\n",
        "      - The bounding box output format should be xmin, ymin, xmax, ymax\n",
        "      - It is not necessary the model is trained to output exactly this format but the visualize function which shows output should output in this format\n",
        "    - Either the object is a cat or dog?\n",
        "    - And which specie the object belongs to? There are in total 9 species: \n",
        "      - Cat [3 species]:\n",
        "        - Abyssinian\n",
        "        - Birman\n",
        "        - Persian\n",
        "      - Dog [6 species]\n",
        "        - american_bulldog\n",
        "        - american_pit_bull_terrier\n",
        "        - basset_hound\n",
        "        - beagle\n",
        "        - chihuahua\n",
        "        - pomeranian\n",
        "- Implement Custom Dataloader\n",
        "  - This is obvious as dataset is in a unique format any predifined dataloader wont work\n",
        "  - Follow best practices of writing custom dataloaders\n",
        "  - Details of the format of the dataset are defined in the Dataset Details section below\n",
        "  - Add needed pre-processing that you think would help train a better model or would help as we are using pre-trained weights as starting point\n",
        "  - Add augmentations that you think would help train a better model\n",
        "- Implement Loss Function\n",
        "  - Design and implement a loss function that can handle all of the outputs we have\n",
        "  - You can use pytorch built-in loss functions\n",
        "  - There are many scenarios which you need to handle, which one can understand from the dataset details and the model design\n",
        "- Implement Test Function\n",
        "  - The test function should be able to run the model on the validation set and output the metrics for all the outputs of the model\n",
        "  - Select the metrics carefully, there are many scenarios which can change the selection of a metric\n",
        "  - Keep in mind there are multiple outputs, you would need a metric for each output\n",
        "  - [NOTE] You don't need to implement metrics for the bounding box output as it can take more time than provided for this assessment. But please add details of the metrics you would have implemented in your code-walk through loom video.\n",
        "- Update Resume Training Functionality using the best weights\n",
        "  - Current script does not have save best weights functionality\n",
        "  - The code should be able to resume training from exactly same point from where the training was stopped if model weights file is passed\n",
        "  - Keep in mind you can not resume training from same point by just loading weights of the model\n",
        "- Implement a visualize function [Most important, without this no submission will be accepted]\n",
        "  - The input of the function should be path of a folder with images and the weight file\n",
        "    - Also the output folder path to save outputs\n",
        "  - This function should return a dictionary of dictionaries with following details for each image:\n",
        "    - {\n",
        "        \"has_object\": True,\n",
        "        \"cat_or_dog\": \"cat\",\n",
        "        \"specie\": \"persian\",\n",
        "        \"xmin\": 10,\n",
        "        \"ymin\": 10,\n",
        "        \"xmax\": 10,\n",
        "        \"ymax\": 10\n",
        "    }\n",
        "  - And in case there is no object it should have 0 for bbox values, \"NA\" for \"cat_or_dog\" and \"specie\", and False for \"has_object\".\n",
        "  - Values of the returned dictionary should be like explained above and keys should be image names including the extension \".jpg\" or \".jpeg\"\n",
        "  - Should save output image with bounding box drawn on it, with same name input image but place in the output folder \n",
        "- Try to train the best model\n",
        "\n",
        "\n",
        "## Dataset Details\n",
        "The dataset has in total 1041 images. Each image has a single object which is either a cat or a dog.\n",
        "- There are multiple species for both cat and dog.\n",
        "- The number of images falling in each specie is as follows:\n",
        "  - basset_hound: 93\n",
        "  - Birman: 93\n",
        "  - pomeranian: 93\n",
        "  - american_pit_bull_terrier: 93\n",
        "  - american_bulldog: 93\n",
        "  - Abyssinian: 92\n",
        "  - beagle: 93\n",
        "  - Persian: 93\n",
        "  - chihuahua: 93\n",
        "  - empty: 142\n",
        "- The dataset has two folders:\n",
        "  - images\n",
        "    - Inside images folder we have 986 images in .jpg folder\n",
        "  - labels\n",
        "    - Inside labels folder we have 899 .xml files each file with details of image labels\n",
        "    - For any image that does not have a cat or dog, there is no corresponding xml file\n",
        "\n",
        "## Deliverable\n",
        "- Updated Colab Based Jupyter Notebook:\n",
        "  - With all the required functionality Implemented\n",
        "  - Which one can train the model without any errors\n",
        "  - One should achieve same metrics (Almost same metrics) if I run training using this collab notebook\n",
        "    - Set default values for everything accordingly in the notebook\n",
        "  - During evaluation we will just run the notebook and use the best weights the notebook saves automatically\n",
        "- Best weights you have trained\n",
        "  - We will Evaluate your weights against hold-out test we have and compare results\n",
        "  - We will use visualize function to generate outputs for each image\n",
        "  - Upload weights in an easily downloadable location like, Dropbox, Google Drive, Github, etc\n",
        "- A video code-walk through explaining your design decisions including but not limited to:\n",
        "  - Model Design which layers and activation functions you used and why\n",
        "  - Loss function, which loss functions you used and why\n",
        "  - Metrics, which metrics and why\n",
        "  - Any optimizations you have made to the codebase\n",
        "  - How you implemented resume functionality, what were the things you thought would be needed to resume training from exact same point\n",
        "\n",
        "\n",
        "## Evaluation Criteria\n",
        " - Design Decisions\n",
        " - Completeness: Did you include all features?\n",
        " - Correctness: Does the solution (all deliverables) work in sensible, thought-out ways?\n",
        " - Maintainability: Is the code written in a clean, maintainable way?\n",
        " - Testing: Is the solution adequately tested?\n",
        " - Documentation: Is the codebase well-documented and has proper steps to run any of the deliverables?\n",
        "\n",
        "## Extra Points\n",
        "- Add metrics for the Bounding Box Output\n",
        "- Any Updates in the notebook (Bugs/Implementation Mistakes etc)\n",
        "\n",
        "## How to submit\n",
        "- Please upload the Notebook for this project to GitHub, and post a link to your repository below [repo link box, on the left of submit button].\n",
        "  - Create a new GitHub repository from scratch\n",
        "  - Add the final Colab/Jupyter notebook to the repository\n",
        "- Please upload video and your final best weights on Google Drive or any other platform, and paste the link to the folder with both video and model in the text box just above the submit button.\n",
        "- Please paste the commit Id of the latest commit of your Github Repo, which should not be later than 5 hours of time when the repo was created.\n",
        "  - Please note the submission without the commit id will not be considered."
      ]
    },
    {
      "cell_type": "markdown",
      "metadata": {
        "id": "KE_rGh4kod4n"
      },
      "source": [
        "# Install Required Modules"
      ]
    },
    {
      "cell_type": "code",
      "execution_count": 1,
      "metadata": {
        "id": "magQ0ErkoOIR",
        "colab": {
          "base_uri": "https://localhost:8080/"
        },
        "outputId": "95e90c0b-84e1-4a47-972f-dddd4e6d52ea"
      },
      "outputs": [
        {
          "output_type": "stream",
          "name": "stdout",
          "text": [
            "Looking in indexes: https://pypi.org/simple, https://us-python.pkg.dev/colab-wheels/public/simple/\n",
            "Collecting bs4\n",
            "  Downloading bs4-0.0.1.tar.gz (1.1 kB)\n",
            "  Preparing metadata (setup.py) ... \u001b[?25l\u001b[?25hdone\n",
            "Requirement already satisfied: lxml in /usr/local/lib/python3.10/dist-packages (4.9.2)\n",
            "Requirement already satisfied: kaggle in /usr/local/lib/python3.10/dist-packages (1.5.13)\n",
            "Requirement already satisfied: beautifulsoup4 in /usr/local/lib/python3.10/dist-packages (from bs4) (4.11.2)\n",
            "Requirement already satisfied: six>=1.10 in /usr/local/lib/python3.10/dist-packages (from kaggle) (1.16.0)\n",
            "Requirement already satisfied: certifi in /usr/local/lib/python3.10/dist-packages (from kaggle) (2022.12.7)\n",
            "Requirement already satisfied: python-dateutil in /usr/local/lib/python3.10/dist-packages (from kaggle) (2.8.2)\n",
            "Requirement already satisfied: requests in /usr/local/lib/python3.10/dist-packages (from kaggle) (2.27.1)\n",
            "Requirement already satisfied: tqdm in /usr/local/lib/python3.10/dist-packages (from kaggle) (4.65.0)\n",
            "Requirement already satisfied: python-slugify in /usr/local/lib/python3.10/dist-packages (from kaggle) (8.0.1)\n",
            "Requirement already satisfied: urllib3 in /usr/local/lib/python3.10/dist-packages (from kaggle) (1.26.15)\n",
            "Requirement already satisfied: soupsieve>1.2 in /usr/local/lib/python3.10/dist-packages (from beautifulsoup4->bs4) (2.4.1)\n",
            "Requirement already satisfied: text-unidecode>=1.3 in /usr/local/lib/python3.10/dist-packages (from python-slugify->kaggle) (1.3)\n",
            "Requirement already satisfied: charset-normalizer~=2.0.0 in /usr/local/lib/python3.10/dist-packages (from requests->kaggle) (2.0.12)\n",
            "Requirement already satisfied: idna<4,>=2.5 in /usr/local/lib/python3.10/dist-packages (from requests->kaggle) (3.4)\n",
            "Building wheels for collected packages: bs4\n",
            "  Building wheel for bs4 (setup.py) ... \u001b[?25l\u001b[?25hdone\n",
            "  Created wheel for bs4: filename=bs4-0.0.1-py3-none-any.whl size=1257 sha256=7037341871552b9a797a59d2babd84589698783b3593a739e65e745bc3c4efa9\n",
            "  Stored in directory: /root/.cache/pip/wheels/25/42/45/b773edc52acb16cd2db4cf1a0b47117e2f69bb4eb300ed0e70\n",
            "Successfully built bs4\n",
            "Installing collected packages: bs4\n",
            "Successfully installed bs4-0.0.1\n"
          ]
        }
      ],
      "source": [
        "! pip install bs4 lxml kaggle"
      ]
    },
    {
      "cell_type": "markdown",
      "source": [
        "# Connect Drive\n"
      ],
      "metadata": {
        "id": "yHxibAOzOmfy"
      }
    },
    {
      "cell_type": "code",
      "source": [
        "from google.colab import drive\n",
        "drive.mount('/content/drive')"
      ],
      "metadata": {
        "colab": {
          "base_uri": "https://localhost:8080/"
        },
        "id": "TCIbeatGOpwC",
        "outputId": "459d65be-b218-43c2-c724-a8052ab3cb51"
      },
      "execution_count": 31,
      "outputs": [
        {
          "output_type": "stream",
          "name": "stdout",
          "text": [
            "Drive already mounted at /content/drive; to attempt to forcibly remount, call drive.mount(\"/content/drive\", force_remount=True).\n"
          ]
        }
      ]
    },
    {
      "cell_type": "code",
      "source": [
        "cd drive/MyDrive/Custom_OB"
      ],
      "metadata": {
        "colab": {
          "base_uri": "https://localhost:8080/"
        },
        "id": "_1reV1ULOr5V",
        "outputId": "96cd9c77-3623-462a-946c-6ca2e2481fce"
      },
      "execution_count": 32,
      "outputs": [
        {
          "output_type": "stream",
          "name": "stdout",
          "text": [
            "[Errno 2] No such file or directory: 'drive/MyDrive/Custom_OB'\n",
            "/content/drive/MyDrive/Custom_OB\n"
          ]
        }
      ]
    },
    {
      "cell_type": "markdown",
      "metadata": {
        "id": "Bw3F4t1eaLl6"
      },
      "source": [
        "# Download Dataset from Kaggle"
      ]
    },
    {
      "cell_type": "code",
      "execution_count": 2,
      "metadata": {
        "id": "59RSpyzRaOVj"
      },
      "outputs": [],
      "source": [
        "import os\n",
        "os.environ['KAGGLE_USERNAME'] = 'bilalyousaf0014'\n",
        "os.environ['KAGGLE_KEY'] = '11031bc21c5e3ec23585dbe17dc4267d'"
      ]
    },
    {
      "cell_type": "code",
      "execution_count": null,
      "metadata": {
        "id": "plZEhi_oaPPn"
      },
      "outputs": [],
      "source": [
        "!kaggle datasets download -d bilalyousaf0014/ml-engineer-assessment-dataset"
      ]
    },
    {
      "cell_type": "code",
      "execution_count": null,
      "metadata": {
        "id": "d6jkCK0uaxRT"
      },
      "outputs": [],
      "source": [
        "! unzip /content/ml-engineer-assessment-dataset.zip"
      ]
    },
    {
      "cell_type": "markdown",
      "source": [
        "# MODEL IMPLEMENTATION:"
      ],
      "metadata": {
        "id": "EDSLlmSTLaWN"
      }
    },
    {
      "cell_type": "code",
      "source": [
        "import os\n",
        "import torch\n",
        "import torch.nn as nn\n",
        "import numpy as np\n",
        "\n",
        "from torchvision.models import resnet18, ResNet18_Weights\n"
      ],
      "metadata": {
        "id": "WWT3FVMupCIe"
      },
      "execution_count": 33,
      "outputs": []
    },
    {
      "cell_type": "code",
      "source": [
        "class Model(nn.Module):\n",
        "    def __init__(self):\n",
        "        super(Model, self).__init__()\n",
        "        pretrained_model = resnet18(pretrained=True)\n",
        "        self.backbone = nn.Sequential(*list(pretrained_model.children())[:-2])\n",
        "        self.have_object = None\n",
        "        self.cat_or_dog = None\n",
        "        self.specie = None\n",
        "        self.bbox = None\n",
        "\n",
        "    def forward(self, input):\n",
        "        out_backbone = self.backbone(input)\n",
        "        return {\n",
        "            \"bbox\": None,\n",
        "            \"object\": None,\n",
        "            \"cat_or_dog\": None,\n",
        "            \"specie\": None\n",
        "        }\n"
      ],
      "metadata": {
        "id": "htkkgoP8pLiJ"
      },
      "execution_count": 34,
      "outputs": []
    },
    {
      "cell_type": "markdown",
      "source": [
        "# CUSTOM DATALOADER IMPLEMENTATION"
      ],
      "metadata": {
        "id": "fSltG75YLojS"
      }
    },
    {
      "cell_type": "code",
      "source": [
        "old_train_list = np.load('assessment_dataset/train_list.npy', allow_pickle=True).tolist()\n",
        "old_val_list = np.load('assessment_dataset/val_list.npy', allow_pickle=True).tolist()\n",
        "\n",
        "import os\n",
        "\n",
        "image_folder = 'assessment_dataset/images'\n",
        "xml_folder = 'assessment_dataset/labels'\n",
        "\n",
        "train_list = []\n",
        "val_list = []\n",
        "\n",
        "for image_name in old_train_list:\n",
        "    image_path_jpg = os.path.join(image_folder, f\"{image_name}.jpg\")\n",
        "    image_path_jpeg = os.path.join(image_folder, f\"{image_name}.jpeg\")\n",
        "    xml_path = os.path.join(xml_folder, f\"{image_name}.xml\")\n",
        "\n",
        "    if os.path.isfile(image_path_jpg) or os.path.isfile(image_path_jpeg):\n",
        "        if os.path.isfile(xml_path):\n",
        "            train_list.append(image_name)\n",
        "        \n",
        "for image_name in old_val_list:\n",
        "    image_path_jpg = os.path.join(image_folder, f\"{image_name}.jpg\")\n",
        "    image_path_jpeg = os.path.join(image_folder, f\"{image_name}.jpeg\")\n",
        "    xml_path = os.path.join(xml_folder, f\"{image_name}.xml\")\n",
        "\n",
        "    if os.path.isfile(image_path_jpg) or os.path.isfile(image_path_jpeg):\n",
        "        if os.path.isfile(xml_path):\n",
        "            val_list.append(image_name)\n",
        "\n"
      ],
      "metadata": {
        "id": "y9cVSjD9pLe7"
      },
      "execution_count": 35,
      "outputs": []
    },
    {
      "cell_type": "code",
      "source": [
        "from bs4 import BeautifulSoup\n",
        "\n",
        "def read_xml_file(path):\n",
        "    try:\n",
        "      with open(path, 'r') as f:\n",
        "          data = f.read()\n",
        "      bs_data = BeautifulSoup(data, 'xml')\n",
        "      return {\n",
        "          \"cat_or_dog\": bs_data.find(\"name\").text,\n",
        "          \"xmin\": int(bs_data.find(\"xmin\").text),\n",
        "          \"ymin\": int(bs_data.find(\"ymin\").text),\n",
        "          \"xmax\": int(bs_data.find(\"xmax\").text),\n",
        "          \"ymax\": int(bs_data.find(\"ymax\").text),\n",
        "          \"bbox\": [int(bs_data.find(\"xmin\").text),int(bs_data.find(\"ymin\").text),int(bs_data.find(\"xmax\").text),int(bs_data.find(\"ymax\").text)],\n",
        "          \"specie\": \"_\".join(path.split(os.sep)[-1].split(\"_\")[:-1])\n",
        "      }\n",
        "    except:\n",
        "      return{}\n"
      ],
      "metadata": {
        "id": "gm7NXH54pPEU"
      },
      "execution_count": 36,
      "outputs": []
    },
    {
      "cell_type": "code",
      "source": [
        "from PIL import Image\n",
        "\n",
        "import torchvision.transforms as transforms\n",
        "\n",
        "class CustomDataset():\n",
        "    def __init__(self, dataset_path, images_list, train=False):\n",
        "        self.preprocess = transforms.Compose([\n",
        "            transforms.Resize((256, 256)),\n",
        "            transforms.ToTensor(),\n",
        "            transforms.Normalize(mean=[0.485, 0.456, 0.406], std=[0.229, 0.224, 0.225]),\n",
        "        ])\n",
        "\n",
        "        self.image_paths = []\n",
        "        self.labels = []\n",
        "\n",
        "        image_folder_path = os.path.join(dataset_path, \"images\")\n",
        "        label_folder_path = os.path.join(dataset_path, \"labels\")\n",
        "\n",
        "        for path in os.listdir(image_folder_path):\n",
        "            name = path.split(os.sep)[-1].split(\".\")[0]\n",
        "            if name in images_list:\n",
        "                xml_path = os.path.join(label_folder_path, name + \".xml\")\n",
        "                xml_data = read_xml_file(xml_path)\n",
        "                self.image_paths.append(os.path.join(image_folder_path, name + \".jpg\"))\n",
        "                # print(os.path.join(image_folder_path, name + \".jpg\"))\n",
        "                self.labels.append(xml_data)\n",
        "\n",
        "    def __len__(self):\n",
        "        return len(self.image_paths)\n",
        "\n",
        "    def __getitem__(self, index):\n",
        "        image_path = self.image_paths[index]\n",
        "        image = Image.open(image_path)\n",
        "        image = self.preprocess(image)\n",
        "\n",
        "        labels = self.labels[index]\n",
        "\n",
        "        return image, labels\n",
        "\n"
      ],
      "metadata": {
        "id": "3oRGoq-PpSpO"
      },
      "execution_count": 37,
      "outputs": []
    },
    {
      "cell_type": "markdown",
      "source": [
        "# TRAINING LOOP IMPLEMENTATION"
      ],
      "metadata": {
        "id": "2WtDFhhrLvJm"
      }
    },
    {
      "cell_type": "markdown",
      "source": [
        "## Initializations\n"
      ],
      "metadata": {
        "id": "3hcJeq2CL0je"
      }
    },
    {
      "cell_type": "code",
      "source": [
        "# Training Loop Implementation\n",
        "from torch.utils.data import DataLoader\n",
        "import torchmetrics\n",
        "import torch.optim as optim\n",
        "from sklearn.preprocessing import LabelEncoder\n",
        "\n",
        "def train(epochs, model_weights):\n",
        "    # Initialize Model and Optimizer\n",
        "    model = Model()\n",
        "    optimizer = optim.Adam(model.parameters(), lr=0.001)\n",
        "\n",
        "    # Initialize Loss Functions\n",
        "    have_object_loss = nn.BCELoss()\n",
        "    specie_loss = nn.CrossEntropyLoss()\n",
        "    cat_or_dog_loss = nn.CrossEntropyLoss()\n",
        "    bbox_loss = nn.MSELoss()\n",
        "    \n",
        "    training_dataset = CustomDataset(\"assessment_dataset\", images_list=train_list)\n",
        "    # print(training_dataset)\n",
        "    training_loader = DataLoader(training_dataset, batch_size=32, shuffle=True)\n",
        "\n",
        "    if torch.cuda.is_available():\n",
        "        model = model.cuda()\n",
        "\n",
        "\n",
        "    def train_one_epoch(epoch_index):\n",
        "        running_loss = 0.0\n",
        "\n",
        "        label_encoder = LabelEncoder()\n",
        "\n",
        "        for i, data in enumerate(training_loader):\n",
        "            inputs, labels = data\n",
        "\n",
        "            if torch.cuda.is_available():\n",
        "                inputs = inputs.cuda()\n",
        "\n",
        "            optimizer.zero_grad()\n",
        "\n",
        "            # Perform label encoding for \"cat_or_dog\" labels\n",
        "            labels[\"cat_or_dog\"] = label_encoder.fit_transform(labels[\"cat_or_dog\"])\n",
        "\n",
        "            if \"bbox\" in labels and labels[\"bbox\"] is not None:\n",
        "                bbox_labels = labels[\"bbox\"]\n",
        "                if len(bbox_labels) > 0:\n",
        "                    bbox_labels = [torch.tensor(box, dtype=torch.float32) for box in bbox_labels]\n",
        "                    bbox_labels = torch.stack(bbox_labels).cuda()\n",
        "                else:\n",
        "                    bbox_labels = torch.tensor(bbox_labels)\n",
        "                labels[\"bbox\"] = bbox_labels\n",
        "\n",
        "            outputs = model(inputs)\n",
        "\n",
        "            loss_have_object = have_object_loss(outputs[\"object\"], labels[\"cat_or_dog\"])\n",
        "            loss_specie = specie_loss(outputs[\"specie\"], labels[\"specie\"])\n",
        "            loss_cat_or_dog = cat_or_dog_loss(outputs[\"cat_or_dog\"], labels[\"cat_or_dog\"])\n",
        "            loss_bbox = bbox_loss(outputs[\"bbox\"], labels[\"bbox\"])\n",
        "\n",
        "            loss = loss_have_object + loss_specie + loss_cat_or_dog + loss_bbox\n",
        "\n",
        "            loss.backward()\n",
        "            optimizer.step()\n",
        "\n",
        "            running_loss += loss.item()\n",
        "\n",
        "            if i % 10 == 9:\n",
        "                print(f\"Epoch {epoch_index}, Iteration {i+1}, Loss: {running_loss/10}\")\n",
        "                running_loss = 0.0\n",
        "\n",
        "        return running_loss\n",
        "\n",
        "\n",
        "\n",
        "    for i in range(epochs):\n",
        "        print(\"Epochesss\")\n",
        "        epoch_loss = train_one_epoch(i)\n",
        "        print(f\"Epoch {i} Loss: {epoch_loss}\")\n",
        "\n",
        "    torch.save(model.state_dict(), model_weights)\n"
      ],
      "metadata": {
        "id": "hLeLGBqcpebZ"
      },
      "execution_count": 46,
      "outputs": []
    },
    {
      "cell_type": "markdown",
      "source": [
        "# Start Training\n"
      ],
      "metadata": {
        "id": "H0X-B3nOL5mI"
      }
    },
    {
      "cell_type": "code",
      "source": [
        "train(epochs=10, model_weights='hello.h5')"
      ],
      "metadata": {
        "id": "Or-RdBsrs8oV"
      },
      "execution_count": null,
      "outputs": []
    },
    {
      "cell_type": "markdown",
      "source": [
        "# Testing on Validation Data"
      ],
      "metadata": {
        "id": "ZmvmR8MfMEpp"
      }
    },
    {
      "cell_type": "code",
      "source": [
        "def test(model, val_list):\n",
        "    val_dataset = CustomDataset(\"assessment_dataset\", images_list=val_list)\n",
        "    val_loader = DataLoader(val_dataset, batch_size=32)\n",
        "\n",
        "    metric_object = torchmetrics.Accuracy()\n",
        "    metric_cat_or_dog = torchmetrics.Accuracy()\n",
        "    metric_specie = torchmetrics.Accuracy()\n",
        "    metric_bbox = torchmetrics.MeanSquaredError()\n",
        "\n",
        "    for i, data in enumerate(val_loader):\n",
        "        inputs, labels = data\n",
        "\n",
        "        if torch.cuda.is_available():\n",
        "            inputs = inputs.cuda()\n",
        "            labels[\"cat_or_dog\"] = labels[\"cat_or_dog\"].cuda()\n",
        "            labels[\"bbox\"] = labels[\"bbox\"].cuda()\n",
        "\n",
        "        outputs = model(inputs)\n",
        "\n",
        "        metric_object(outputs[\"object\"], labels[\"object\"])\n",
        "        metric_cat_or_dog(outputs[\"cat_or_dog\"], labels[\"cat_or_dog\"])\n",
        "        metric_specie(outputs[\"specie\"], labels[\"specie\"])\n",
        "        metric_bbox(outputs[\"bbox\"], labels[\"bbox\"])\n",
        "\n",
        "    score_object = metric_object.compute()\n",
        "    score_cat_or_dog = metric_cat_or_dog.compute()\n",
        "    score_specie = metric_specie.compute()\n",
        "    score_bbox = metric_bbox.compute()\n",
        "\n",
        "    return score_object, score_cat_or_dog, score_specie, score_bbox\n"
      ],
      "metadata": {
        "id": "qv2j1WZmpi-7"
      },
      "execution_count": 39,
      "outputs": []
    },
    {
      "cell_type": "markdown",
      "source": [
        "# Draw Results"
      ],
      "metadata": {
        "id": "G8OlLPceMU4j"
      }
    },
    {
      "cell_type": "code",
      "source": [
        "!pip install torchmetrics"
      ],
      "metadata": {
        "id": "jNtFTsrdppO6"
      },
      "execution_count": null,
      "outputs": []
    },
    {
      "cell_type": "code",
      "execution_count": 41,
      "metadata": {
        "id": "u7npVwns6LU6"
      },
      "outputs": [],
      "source": [
        "from PIL import ImageDraw\n",
        "\n",
        "def visualize(model_weights, image_folder_path, output_folder=\"output\"):\n",
        "    model = Model()\n",
        "    model.load_state_dict(torch.load(model_weights))\n",
        "    if not os.path.exists(output_folder):\n",
        "        os.makedirs(output_folder)\n",
        "\n",
        "    for image_name in os.listdir(image_folder_path):\n",
        "        try:\n",
        "            image = Image.open(os.path.join(image_folder_path, image_name + \".jpg\"))\n",
        "        except:\n",
        "            image = Image.open(os.path.join(image_folder_path, image_name + \".jpeg\"))\n",
        "\n",
        "        preprocess = transforms.Compose([\n",
        "            transforms.Resize((256, 256)),\n",
        "            transforms.ToTensor(),\n",
        "            transforms.Normalize(mean=[0.485, 0.456, 0.406], std=[0.229, 0.224, 0.225]),\n",
        "        ])\n",
        "\n",
        "        image_tensor = preprocess(image).unsqueeze(0)\n",
        "\n",
        "        if torch.cuda.is_available():\n",
        "            image_tensor = image_tensor.cuda()\n",
        "\n",
        "        output = model(image_tensor)\n",
        "\n",
        "        object_prediction = output[\"object\"]\n",
        "        cat_or_dog_prediction = output[\"cat_or_dog\"]\n",
        "        specie_prediction = output[\"specie\"]\n",
        "        bbox_prediction = output[\"bbox\"]\n",
        "\n",
        "        # Post-processing functions\n",
        "        def post_process_object(x):\n",
        "            return x\n",
        "\n",
        "        def post_process_cat_or_dog(x):\n",
        "            return x\n",
        "\n",
        "        def post_process_specie(x):\n",
        "            return x\n",
        "\n",
        "        def post_process_bbox(x):\n",
        "            return x\n",
        "\n",
        "        object_prediction = post_process_object(object_prediction)\n",
        "        cat_or_dog_prediction = post_process_cat_or_dog(cat_or_dog_prediction)\n",
        "        specie_prediction = post_process_specie(specie_prediction)\n",
        "        bbox_prediction = post_process_bbox(bbox_prediction)\n",
        "\n",
        "        draw = ImageDraw.Draw(image)\n",
        "        draw.rectangle(bbox_prediction, outline=\"red\")\n",
        "\n",
        "        image.save(os.path.join(output_folder, image_name + \"_output.jpg\"))\n",
        "\n",
        "    return {}\n",
        "\n"
      ]
    }
  ],
  "metadata": {
    "accelerator": "GPU",
    "colab": {
      "provenance": []
    },
    "gpuClass": "standard",
    "kernelspec": {
      "display_name": "Python 3",
      "name": "python3"
    },
    "language_info": {
      "name": "python"
    }
  },
  "nbformat": 4,
  "nbformat_minor": 0
}